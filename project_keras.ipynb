{
  "nbformat": 4,
  "nbformat_minor": 0,
  "metadata": {
    "colab": {
      "provenance": [],
      "authorship_tag": "ABX9TyMopL3hz9fiasTmuF4x6aqS",
      "include_colab_link": true
    },
    "kernelspec": {
      "name": "python3",
      "display_name": "Python 3"
    },
    "language_info": {
      "name": "python"
    }
  },
  "cells": [
    {
      "cell_type": "markdown",
      "metadata": {
        "id": "view-in-github",
        "colab_type": "text"
      },
      "source": [
        "<a href=\"https://colab.research.google.com/github/Abel-kaiki/Modelling/blob/main/project_keras.ipynb\" target=\"_parent\"><img src=\"https://colab.research.google.com/assets/colab-badge.svg\" alt=\"Open In Colab\"/></a>"
      ]
    },
    {
      "cell_type": "code",
      "execution_count": 1,
      "metadata": {
        "colab": {
          "base_uri": "https://localhost:8080/"
        },
        "id": "899bRZW0HGjn",
        "outputId": "73c47c0c-74a3-4c1e-b4a0-f617aea7320b"
      },
      "outputs": [
        {
          "output_type": "stream",
          "name": "stdout",
          "text": [
            "Drive already mounted at /content/drive; to attempt to forcibly remount, call drive.mount(\"/content/drive\", force_remount=True).\n"
          ]
        }
      ],
      "source": [
        "#import libraries used in this project\n",
        "\n",
        "import numpy as np\n",
        "import pandas as pd\n",
        "import seaborn as sns\n",
        "import matplotlib.pyplot as plt\n",
        "from sklearn.model_selection import train_test_split\n",
        "from sklearn.preprocessing import MinMaxScaler, LabelEncoder\n",
        "from keras.models import Sequential\n",
        "from keras.layers import Dense\n",
        "from keras.optimizers import Adam\n",
        "from keras.layers import Input\n",
        "from keras.models import Model\n",
        "\n",
        "#Colab drive mount\n",
        "from google.colab import drive\n",
        "drive.mount(\"/content/drive\")\n",
        "\n",
        "#Load dataset\n",
        "path = '/content/drive/MyDrive/ColabNotebooks/Datasets/R_W_Wine_quality.csv'\n",
        "data = pd.read_csv(path)\n",
        "#data_qs = data['quality'].astype(int)\n",
        "#data_qs.plot.hist()\n"
      ]
    },
    {
      "cell_type": "code",
      "source": [
        "#Preparing dataframe - Splitting\n",
        "# Separate inputs and outputs\n",
        "inputs = ['fixed acidity', 'volatile acidity', 'citric acid', 'residual sugar', 'chlorides', 'free sulfur dioxide', 'total sulfur dioxide', 'density', 'pH', 'sulphates', 'alcohol']\n",
        "data['Id'] = data.index\n",
        "X = data[['Id'] + inputs] # include Id for tracking\n",
        "\n",
        "#Need to convert 'type' to numerical (float OR binary)\n",
        "data['type_int'] = (data['type'] == 'Red') #Red = True (1), White = False (0)\n",
        "data['type_int'] = data['type_int'].astype(float)\n",
        "data['quality'] = data['quality'].astype(float)\n",
        "\n",
        "y = data[['quality','type_int']]\n",
        "quality_min = min(data['quality'])\n",
        "quality_max = max(data['quality'])\n",
        "quality_range = quality_max - quality_min + 1 #Including min value\n",
        "\n",
        "# Split data into training and testing sets, retaining IDs.\n",
        "X_train, X_test, y_train, y_test = train_test_split(X, y, test_size=0.2, random_state=42)\n",
        "# test_size : testing-training splits. 0.2 = 20% reserved for testing.\n"
      ],
      "metadata": {
        "id": "Mb4U7rtzH7t3"
      },
      "execution_count": 104,
      "outputs": []
    },
    {
      "cell_type": "code",
      "source": [
        "#Preparing df - Scaling\n",
        "# fit and transform, scale between 1 and 0\n",
        "scaler = MinMaxScaler()\n",
        "X_train_scaled = scaler.fit_transform(X_train[inputs])\n",
        "X_test_scaled = scaler.fit_transform(X_test[inputs])\n",
        "num_classes = len(y.columns)\n",
        "\n",
        "y_qual = y['quality'].values.reshape(-1, 1)\n",
        "y_obj = scaler.fit(y_qual)\n",
        "\n",
        "# y scaling (quality)\n",
        "#y_train_scaled = scaler.transform(y_train)\n",
        "#y_test_scaled = MinMaxScaler().transform(y_test)\n",
        "\n",
        "#as dataframe\n",
        "#y_train_scaled = pd.DataFrame(y_train_scaled, columns=['quality', 'type'])\n",
        "#y_test_scaled = pd.DataFrame(y_test_scaled, columns=['quality', 'type'])\n",
        "\n",
        "#y_train_scaled_nd = MinMaxScaler().fit_transform(y_train)\n",
        "#y_test_scaled_nd = MinMaxScaler().fit_transform(y_test)\n",
        "\n",
        "#num_classes"
      ],
      "metadata": {
        "id": "rU0h-1AkK2fu"
      },
      "execution_count": 105,
      "outputs": []
    },
    {
      "cell_type": "code",
      "source": [
        "#Build model\n",
        "\n",
        "#Sequential model cannot do multi-output, See: https://keras.io/guides/functional_api/#models-with-multiple-inputs-and-outputs\n",
        "# In our case we need a softmax output for the quality, and a sigmoid output for the binary\n",
        "\n",
        "\n",
        "model = Sequential([\n",
        "    Dense(6, activation='relu', input_shape=(len(inputs),)), #First hidden layer with 64 neurons, relu activation function\n",
        "    Dense(3, activation='relu'), # second hidden layer with 32 neurons\n",
        "    Dense(1) #output layer for classification (softmax for multiclass, sigmoid for binary)\n",
        "])\n",
        "\n",
        "# Initialise layers\n",
        "#input_layer = Input(shape=(len(inputs),))\n",
        "#hidden = Dense(6, activation='relu')(input_layer)\n",
        "#hidden = Dense(16, activation='relu')(hidden)\n",
        "#output1 = Dense(1, activation='sigmoid')(hidden)\n",
        "#output2 = Dense(1, activation='sigmoid')(hidden)\n",
        "\n",
        "##\n",
        "#model = Model(inputs=input_layer, outputs=[output1, output2]) #multi-output\n",
        "#model = Sequential(inputs=input_layer, outputs=output1)\n",
        "\n",
        "#Compiling\n",
        "#sgd=SGD(lr=0.9) use this if you want to change lr in SGD\n",
        "#Adam(lr=0.00001, beta_1=0.9, beta_2=0.999, epsilon=1e-08, decay=0.0) use this if you want to change lr in Adam, default lr = 0.001\n",
        "opti = Adam(learning_rate= 0.0001)\n",
        "#model.compile(optimizer='adam', loss=['sparse_categorical_crossentropy','binary_crossentropy']) #multi-output\n",
        "#model.compile(optimizer='adam', loss='sparse_categorical_crossentropy')\n",
        "model.compile(optimizer = opti, loss='mse')"
      ],
      "metadata": {
        "id": "UKDsoDZZLXDL"
      },
      "execution_count": 106,
      "outputs": []
    },
    {
      "cell_type": "code",
      "source": [
        "#Fitting model\n",
        "model.fit(X_train_scaled, y_train['quality'].values, validation_split=0.2, batch_size = 15, epochs = 200)\n",
        "#[print(i.shape, i.dtype) for i in model.inputs]\n",
        "\n"
      ],
      "metadata": {
        "id": "Bgr8ZKHVNRHr"
      },
      "execution_count": null,
      "outputs": []
    },
    {
      "cell_type": "code",
      "source": [
        "\n",
        "[print(o.shape, o.dtype) for o in model.outputs]\n"
      ],
      "metadata": {
        "colab": {
          "base_uri": "https://localhost:8080/"
        },
        "id": "pC59BE6AZUFS",
        "outputId": "19fdf448-fa4f-4b87-b0c6-2a91d8effaa5"
      },
      "execution_count": null,
      "outputs": [
        {
          "output_type": "stream",
          "name": "stdout",
          "text": [
            "(None, 10) <dtype: 'float32'>\n"
          ]
        },
        {
          "output_type": "execute_result",
          "data": {
            "text/plain": [
              "[None]"
            ]
          },
          "metadata": {},
          "execution_count": 7
        }
      ]
    },
    {
      "cell_type": "code",
      "source": [
        "\n",
        "[print(l.name, l.input_shape, l.dtype) for l in model.layers]\n",
        "gho = len(training_loss)\n",
        "print(type(training_loss))"
      ],
      "metadata": {
        "colab": {
          "base_uri": "https://localhost:8080/",
          "height": 228
        },
        "id": "fzsTvkSkZUic",
        "outputId": "8018fae4-2162-4d03-e9dd-68bc169e1dff"
      },
      "execution_count": 25,
      "outputs": [
        {
          "output_type": "stream",
          "name": "stdout",
          "text": [
            "dense_5 (None, 11) float32\n",
            "dense_6 (None, 6) float32\n",
            "dense_7 (None, 3) float32\n"
          ]
        },
        {
          "output_type": "error",
          "ename": "NameError",
          "evalue": "name 'training_loss' is not defined",
          "traceback": [
            "\u001b[0;31m---------------------------------------------------------------------------\u001b[0m",
            "\u001b[0;31mNameError\u001b[0m                                 Traceback (most recent call last)",
            "\u001b[0;32m<ipython-input-25-905d6fcfb808>\u001b[0m in \u001b[0;36m<cell line: 2>\u001b[0;34m()\u001b[0m\n\u001b[1;32m      1\u001b[0m \u001b[0;34m[\u001b[0m\u001b[0mprint\u001b[0m\u001b[0;34m(\u001b[0m\u001b[0ml\u001b[0m\u001b[0;34m.\u001b[0m\u001b[0mname\u001b[0m\u001b[0;34m,\u001b[0m \u001b[0ml\u001b[0m\u001b[0;34m.\u001b[0m\u001b[0minput_shape\u001b[0m\u001b[0;34m,\u001b[0m \u001b[0ml\u001b[0m\u001b[0;34m.\u001b[0m\u001b[0mdtype\u001b[0m\u001b[0;34m)\u001b[0m \u001b[0;32mfor\u001b[0m \u001b[0ml\u001b[0m \u001b[0;32min\u001b[0m \u001b[0mmodel\u001b[0m\u001b[0;34m.\u001b[0m\u001b[0mlayers\u001b[0m\u001b[0;34m]\u001b[0m\u001b[0;34m\u001b[0m\u001b[0;34m\u001b[0m\u001b[0m\n\u001b[0;32m----> 2\u001b[0;31m \u001b[0mgho\u001b[0m \u001b[0;34m=\u001b[0m \u001b[0mlen\u001b[0m\u001b[0;34m(\u001b[0m\u001b[0mtraining_loss\u001b[0m\u001b[0;34m)\u001b[0m\u001b[0;34m\u001b[0m\u001b[0;34m\u001b[0m\u001b[0m\n\u001b[0m\u001b[1;32m      3\u001b[0m \u001b[0mprint\u001b[0m\u001b[0;34m(\u001b[0m\u001b[0mtype\u001b[0m\u001b[0;34m(\u001b[0m\u001b[0mtraining_loss\u001b[0m\u001b[0;34m)\u001b[0m\u001b[0;34m)\u001b[0m\u001b[0;34m\u001b[0m\u001b[0;34m\u001b[0m\u001b[0m\n",
            "\u001b[0;31mNameError\u001b[0m: name 'training_loss' is not defined"
          ]
        }
      ]
    },
    {
      "cell_type": "code",
      "source": [
        "# Extract losses for training datasets\n",
        "training_loss = model.history.history['loss']\n",
        "epochs = range(1, len(training_loss) + 1)\n",
        "\n",
        "# Plot training loss\n",
        "plt.figure(figsize=(10,6))\n",
        "plt.plot(epochs, training_loss, 'bo-', label='Training loss')\n",
        "plt.title('Training loss/epoch')\n",
        "plt.xlabel('Epoch')\n",
        "plt.ylabel('Loss')\n",
        "plt.show()"
      ],
      "metadata": {
        "colab": {
          "base_uri": "https://localhost:8080/",
          "height": 564
        },
        "id": "75QPb8ySk0D6",
        "outputId": "ac88ff63-9ddc-47ab-928f-15c3e98c93d0"
      },
      "execution_count": 108,
      "outputs": [
        {
          "output_type": "display_data",
          "data": {
            "text/plain": [
              "<Figure size 1000x600 with 1 Axes>"
            ],
            "image/png": "[encoded data removed]"
          },
          "metadata": {}
        }
      ]
    },
    {
      "cell_type": "code",
      "source": [
        "#Evaluate model - Quality\n",
        "#Use trained model to make predictions based on scaled test data\n",
        "predictions = model.predict(X_test_scaled)\n",
        "predictions_rounded = predictions.round(0)\n",
        "#y_obj = MinMaxScaler().fit(y_test_scaled_nd[0].reshape(-1,1))\n",
        "#predicted_quality = y_obj.inverse_transform(predictions)\n",
        "# Quick min/max check\n",
        "max(predictions_rounded)"
      ],
      "metadata": {
        "colab": {
          "base_uri": "https://localhost:8080/"
        },
        "id": "tQxEwO60rsw2",
        "outputId": "853a47f1-f852-45ee-d570-b0777335e9d3"
      },
      "execution_count": 109,
      "outputs": [
        {
          "output_type": "stream",
          "name": "stdout",
          "text": [
            "41/41 [==============================] - 0s 2ms/step\n"
          ]
        },
        {
          "output_type": "execute_result",
          "data": {
            "text/plain": [
              "array([7.], dtype=float32)"
            ]
          },
          "metadata": {},
          "execution_count": 109
        }
      ]
    },
    {
      "cell_type": "code",
      "source": [
        "# Quick min/max check\n",
        "print('max is:', max(predictions_rounded), ', min is:', min(predictions_rounded))"
      ],
      "metadata": {
        "colab": {
          "base_uri": "https://localhost:8080/"
        },
        "id": "RI_lwT5xsfoX",
        "outputId": "9d7bb7f7-276c-4936-cf35-3afc64f222d3"
      },
      "execution_count": 110,
      "outputs": [
        {
          "output_type": "stream",
          "name": "stdout",
          "text": [
            "max is: [7.] , min is: [3.]\n"
          ]
        }
      ]
    },
    {
      "cell_type": "code",
      "source": [
        "#transform numerical class indices back to original labels\n",
        "#predicted_labels = LabelEncoder.inverse_transform(predicted_quality)\n",
        "\n",
        "#Actual quality for test data\n",
        "preds = predictions_rounded.flatten()\n",
        "actual_quality = y_test['quality'].values\n",
        "\n",
        "#Calculate accuracy\n",
        "correct_predictions = (preds == actual_quality).sum()\n",
        "accuracy = correct_predictions / len(actual_quality)\n",
        "print(accuracy*100)\n",
        "\n",
        "pred_range = preds - actual_quality\n",
        "rmin = min(pred_range)\n",
        "rmax = max(pred_range)\n",
        "\n",
        "in_range = 100*((pred_range == 1).sum() + (pred_range == -1).sum())/(len(pred_range) - (pred_range == 0).sum())\n",
        "in_range2 = (pred_range == 0).sum()/((pred_range == -1).sum() + (pred_range == 1).sum())\n",
        "print(in_range, '% of erroneous predicted qualities are +-1 of actual quality')\n",
        "print(in_range2, ': ratio between correct/incorrect by +-1')\n",
        "print(min(training_loss))"
      ],
      "metadata": {
        "colab": {
          "base_uri": "https://localhost:8080/"
        },
        "id": "hkO-tY9msyv-",
        "outputId": "5565b4b3-dee2-486b-a2ae-61bdd5ff381f"
      },
      "execution_count": 111,
      "outputs": [
        {
          "output_type": "stream",
          "name": "stdout",
          "text": [
            "45.92307692307692\n",
            "84.92176386913229 % of erroneous predicted qualities are +-1 of actual quality\n",
            "1.0 : ratio between correct/incorrect by +-1\n",
            "0.5434547662734985\n"
          ]
        }
      ]
    }
  ]
}
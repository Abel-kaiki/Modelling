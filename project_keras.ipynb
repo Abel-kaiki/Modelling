{
  "nbformat": 4,
  "nbformat_minor": 0,
  "metadata": {
    "colab": {
      "provenance": [],
      "authorship_tag": "ABX9TyPOpZtcdtXkS0CPtHhoNxwf",
      "include_colab_link": true
    },
    "kernelspec": {
      "name": "python3",
      "display_name": "Python 3"
    },
    "language_info": {
      "name": "python"
    }
  },
  "cells": [
    {
      "cell_type": "markdown",
      "metadata": {
        "id": "view-in-github",
        "colab_type": "text"
      },
      "source": [
        "<a href=\"https://colab.research.google.com/github/Abel-kaiki/Modelling/blob/main/project_keras.ipynb\" target=\"_parent\"><img src=\"https://colab.research.google.com/assets/colab-badge.svg\" alt=\"Open In Colab\"/></a>"
      ]
    },
    {
      "cell_type": "code",
      "execution_count": 1,
      "metadata": {
        "colab": {
          "base_uri": "https://localhost:8080/"
        },
        "id": "899bRZW0HGjn",
        "outputId": "73c47c0c-74a3-4c1e-b4a0-f617aea7320b"
      },
      "outputs": [
        {
          "output_type": "stream",
          "name": "stdout",
          "text": [
            "Drive already mounted at /content/drive; to attempt to forcibly remount, call drive.mount(\"/content/drive\", force_remount=True).\n"
          ]
        }
      ],
      "source": [
        "#import libraries used in this project\n",
        "\n",
        "import numpy as np\n",
        "import pandas as pd\n",
        "import seaborn as sns\n",
        "import matplotlib.pyplot as plt\n",
        "from sklearn.model_selection import train_test_split\n",
        "from sklearn.preprocessing import MinMaxScaler, LabelEncoder\n",
        "from keras.models import Sequential\n",
        "from keras.layers import Dense\n",
        "from keras.optimizers import Adam\n",
        "from keras.layers import Input\n",
        "from keras.models import Model\n",
        "\n",
        "#Colab drive mount\n",
        "from google.colab import drive\n",
        "drive.mount(\"/content/drive\")\n",
        "\n",
        "#Load dataset\n",
        "path = '/content/drive/MyDrive/ColabNotebooks/Datasets/R_W_Wine_quality.csv'\n",
        "data = pd.read_csv(path)\n",
        "#data_qs = data['quality'].astype(int)\n",
        "#data_qs.plot.hist()\n"
      ]
    },
    {
      "cell_type": "code",
      "source": [
        "#Preparing dataframe - Splitting\n",
        "# Separate inputs and outputs\n",
        "inputs = ['fixed acidity', 'volatile acidity', 'citric acid', 'residual sugar', 'chlorides', 'free sulfur dioxide', 'total sulfur dioxide', 'density', 'pH', 'sulphates', 'alcohol']\n",
        "data['Id'] = data.index\n",
        "X = data[['Id'] + inputs] # include Id for tracking\n",
        "\n",
        "#Need to convert 'type' to numerical (float OR binary)\n",
        "data['type_int'] = (data['type'] == 'Red') #Red = True (1), White = False (0)\n",
        "data['type_int'] = data['type_int'].astype(float)\n",
        "data['quality'] = data['quality'].astype(float)\n",
        "\n",
        "y = data[['quality','type_int']]\n",
        "quality_min = min(data['quality'])\n",
        "quality_max = max(data['quality'])\n",
        "quality_range = quality_max - quality_min + 1 #Including min value\n",
        "\n",
        "# Split data into training and testing sets, retaining IDs.\n",
        "X_train, X_test, y_train, y_test = train_test_split(X, y, test_size=0.2, random_state=42)\n",
        "# test_size : testing-training splits. 0.2 = 20% reserved for testing.\n"
      ],
      "metadata": {
        "id": "Mb4U7rtzH7t3"
      },
      "execution_count": 2,
      "outputs": []
    },
    {
      "cell_type": "code",
      "source": [
        "#Preparing df - Scaling\n",
        "# fit and transform, scale between 1 and 0\n",
        "scaler = MinMaxScaler()\n",
        "X_train_scaled = scaler.fit_transform(X_train[inputs])\n",
        "X_test_scaled = scaler.fit_transform(X_test[inputs])\n",
        "num_classes = len(y.columns)\n",
        "\n",
        "y_qual = y['quality'].values.reshape(-1, 1)\n",
        "y_obj = scaler.fit(y_qual)\n",
        "\n",
        "# y scaling (quality)\n",
        "#y_train_scaled = scaler.transform(y_train)\n",
        "#y_test_scaled = MinMaxScaler().transform(y_test)\n",
        "\n",
        "#as dataframe\n",
        "#y_train_scaled = pd.DataFrame(y_train_scaled, columns=['quality', 'type'])\n",
        "#y_test_scaled = pd.DataFrame(y_test_scaled, columns=['quality', 'type'])\n",
        "\n",
        "#y_train_scaled_nd = MinMaxScaler().fit_transform(y_train)\n",
        "#y_test_scaled_nd = MinMaxScaler().fit_transform(y_test)\n",
        "\n",
        "#num_classes"
      ],
      "metadata": {
        "id": "rU0h-1AkK2fu"
      },
      "execution_count": 12,
      "outputs": []
    },
    {
      "cell_type": "code",
      "source": [
        "#Build model\n",
        "\n",
        "#Sequential model cannot do multi-output, See: https://keras.io/guides/functional_api/#models-with-multiple-inputs-and-outputs\n",
        "# In our case we need a softmax output for the quality, and a sigmoid output for the binary\n",
        "\n",
        "\n",
        "model = Sequential([\n",
        "    Dense(6, activation='relu', input_shape=(len(inputs),)), #First hidden layer with 64 neurons, relu activation function\n",
        "    Dense(3, activation='relu'), # second hidden layer with 32 neurons\n",
        "    Dense(1) #output layer for classification (softmax for multiclass, sigmoid for binary)\n",
        "])\n",
        "\n",
        "# Initialise layers\n",
        "#input_layer = Input(shape=(len(inputs),))\n",
        "#hidden = Dense(6, activation='relu')(input_layer)\n",
        "#hidden = Dense(16, activation='relu')(hidden)\n",
        "#output1 = Dense(1, activation='sigmoid')(hidden)\n",
        "#output2 = Dense(1, activation='sigmoid')(hidden)\n",
        "\n",
        "##\n",
        "#model = Model(inputs=input_layer, outputs=[output1, output2]) #multi-output\n",
        "#model = Sequential(inputs=input_layer, outputs=output1)\n",
        "\n",
        "#Compiling\n",
        "#sgd=SGD(lr=0.9) use this if you want to change lr in SGD\n",
        "#Adam(lr=0.00001, beta_1=0.9, beta_2=0.999, epsilon=1e-08, decay=0.0) use this if you want to change lr in Adam, default lr = 0.001\n",
        "opti = Adam(learning_rate= 0.0001)\n",
        "#model.compile(optimizer='adam', loss=['sparse_categorical_crossentropy','binary_crossentropy']) #multi-output\n",
        "#model.compile(optimizer='adam', loss='sparse_categorical_crossentropy')\n",
        "model.compile(optimizer = opti, loss='mse')"
      ],
      "metadata": {
        "id": "UKDsoDZZLXDL"
      },
      "execution_count": 65,
      "outputs": []
    },
    {
      "cell_type": "code",
      "source": [
        "#Fitting model\n",
        "model.fit(X_train_scaled, y_train['quality'].values, validation_split=0.2, batch_size = 15, epochs = 150)\n",
        "#[print(i.shape, i.dtype) for i in model.inputs]\n",
        "\n"
      ],
      "metadata": {
        "colab": {
          "base_uri": "https://localhost:8080/"
        },
        "id": "Bgr8ZKHVNRHr",
        "outputId": "6e63762c-4a5f-4a1d-cba4-c9719b3f53a6"
      },
      "execution_count": 66,
      "outputs": [
        {
          "output_type": "stream",
          "name": "stdout",
          "text": [
            "278/278 [==============================] - 2s 8ms/step - loss: 0.8011 - val_loss: 0.7135\n",
            "Epoch 27/150\n",
            "278/278 [==============================] - 1s 2ms/step - loss: 0.7758 - val_loss: 0.7016\n",
            "Epoch 28/150\n",
            "278/278 [==============================] - 1s 3ms/step - loss: 0.7651 - val_loss: 0.6976\n",
            "Epoch 29/150\n",
            "278/278 [==============================] - 1s 3ms/step - loss: 0.7605 - val_loss: 0.6959\n",
            "Epoch 30/150\n",
            "278/278 [==============================] - 1s 3ms/step - loss: 0.7577 - val_loss: 0.6946\n",
            "Epoch 31/150\n",
            "278/278 [==============================] - 1s 3ms/step - loss: 0.7555 - val_loss: 0.6928\n",
            "Epoch 32/150\n",
            "278/278 [==============================] - 1s 2ms/step - loss: 0.7532 - val_loss: 0.6910\n",
            "Epoch 33/150\n",
            "278/278 [==============================] - 1s 2ms/step - loss: 0.7507 - val_loss: 0.6890\n",
            "Epoch 34/150\n",
            "278/278 [==============================] - 1s 2ms/step - loss: 0.7481 - val_loss: 0.6865\n",
            "Epoch 35/150\n",
            "278/278 [==============================] - 1s 3ms/step - loss: 0.7452 - val_loss: 0.6841\n",
            "Epoch 36/150\n",
            "278/278 [==============================] - 1s 2ms/step - loss: 0.7423 - val_loss: 0.6813\n",
            "Epoch 37/150\n",
            "278/278 [==============================] - 1s 2ms/step - loss: 0.7389 - val_loss: 0.6780\n",
            "Epoch 38/150\n",
            "278/278 [==============================] - 1s 2ms/step - loss: 0.7359 - val_loss: 0.6755\n",
            "Epoch 39/150\n",
            "278/278 [==============================] - 1s 2ms/step - loss: 0.7322 - val_loss: 0.6734\n",
            "Epoch 40/150\n",
            "278/278 [==============================] - 1s 2ms/step - loss: 0.7283 - val_loss: 0.6705\n",
            "Epoch 41/150\n",
            "278/278 [==============================] - 1s 3ms/step - loss: 0.7246 - val_loss: 0.6670\n",
            "Epoch 42/150\n",
            "278/278 [==============================] - 1s 4ms/step - loss: 0.7207 - val_loss: 0.6635\n",
            "Epoch 43/150\n",
            "278/278 [==============================] - 1s 3ms/step - loss: 0.7174 - val_loss: 0.6608\n",
            "Epoch 44/150\n",
            "278/278 [==============================] - 1s 3ms/step - loss: 0.7138 - val_loss: 0.6583\n",
            "Epoch 45/150\n",
            "278/278 [==============================] - 1s 3ms/step - loss: 0.7105 - val_loss: 0.6555\n",
            "Epoch 46/150\n",
            "278/278 [==============================] - 1s 2ms/step - loss: 0.7072 - val_loss: 0.6535\n",
            "Epoch 47/150\n",
            "278/278 [==============================] - 1s 2ms/step - loss: 0.7043 - val_loss: 0.6504\n",
            "Epoch 48/150\n",
            "278/278 [==============================] - 1s 2ms/step - loss: 0.7015 - val_loss: 0.6477\n",
            "Epoch 49/150\n",
            "278/278 [==============================] - 1s 3ms/step - loss: 0.6985 - val_loss: 0.6449\n",
            "Epoch 50/150\n",
            "278/278 [==============================] - 1s 2ms/step - loss: 0.6957 - val_loss: 0.6435\n",
            "Epoch 51/150\n",
            "278/278 [==============================] - 1s 2ms/step - loss: 0.6929 - val_loss: 0.6411\n",
            "Epoch 52/150\n",
            "278/278 [==============================] - 1s 2ms/step - loss: 0.6904 - val_loss: 0.6387\n",
            "Epoch 53/150\n",
            "278/278 [==============================] - 1s 2ms/step - loss: 0.6876 - val_loss: 0.6364\n",
            "Epoch 54/150\n",
            "278/278 [==============================] - 1s 2ms/step - loss: 0.6851 - val_loss: 0.6341\n",
            "Epoch 55/150\n",
            "278/278 [==============================] - 1s 2ms/step - loss: 0.6827 - val_loss: 0.6327\n",
            "Epoch 56/150\n",
            "278/278 [==============================] - 1s 2ms/step - loss: 0.6805 - val_loss: 0.6298\n",
            "Epoch 57/150\n",
            "278/278 [==============================] - 1s 3ms/step - loss: 0.6779 - val_loss: 0.6285\n",
            "Epoch 58/150\n",
            "278/278 [==============================] - 1s 2ms/step - loss: 0.6759 - val_loss: 0.6253\n",
            "Epoch 59/150\n",
            "278/278 [==============================] - 1s 2ms/step - loss: 0.6735 - val_loss: 0.6237\n",
            "Epoch 60/150\n",
            "278/278 [==============================] - 1s 2ms/step - loss: 0.6713 - val_loss: 0.6212\n",
            "Epoch 61/150\n",
            "278/278 [==============================] - 1s 3ms/step - loss: 0.6692 - val_loss: 0.6196\n",
            "Epoch 62/150\n",
            "278/278 [==============================] - 1s 4ms/step - loss: 0.6671 - val_loss: 0.6175\n",
            "Epoch 63/150\n",
            "278/278 [==============================] - 1s 3ms/step - loss: 0.6651 - val_loss: 0.6157\n",
            "Epoch 64/150\n",
            "278/278 [==============================] - 1s 4ms/step - loss: 0.6630 - val_loss: 0.6145\n",
            "Epoch 65/150\n",
            "278/278 [==============================] - 1s 2ms/step - loss: 0.6611 - val_loss: 0.6124\n",
            "Epoch 66/150\n",
            "278/278 [==============================] - 1s 2ms/step - loss: 0.6592 - val_loss: 0.6117\n",
            "Epoch 67/150\n",
            "278/278 [==============================] - 1s 2ms/step - loss: 0.6573 - val_loss: 0.6098\n",
            "Epoch 68/150\n",
            "278/278 [==============================] - 1s 3ms/step - loss: 0.6555 - val_loss: 0.6076\n",
            "Epoch 69/150\n",
            "278/278 [==============================] - 1s 2ms/step - loss: 0.6538 - val_loss: 0.6059\n",
            "Epoch 70/150\n",
            "278/278 [==============================] - 1s 2ms/step - loss: 0.6519 - val_loss: 0.6047\n",
            "Epoch 71/150\n",
            "278/278 [==============================] - 1s 2ms/step - loss: 0.6503 - val_loss: 0.6035\n",
            "Epoch 72/150\n",
            "278/278 [==============================] - 1s 3ms/step - loss: 0.6485 - val_loss: 0.6019\n",
            "Epoch 73/150\n",
            "278/278 [==============================] - 1s 2ms/step - loss: 0.6468 - val_loss: 0.6005\n",
            "Epoch 74/150\n",
            "278/278 [==============================] - 1s 2ms/step - loss: 0.6452 - val_loss: 0.5989\n",
            "Epoch 75/150\n",
            "278/278 [==============================] - 1s 2ms/step - loss: 0.6436 - val_loss: 0.5985\n",
            "Epoch 76/150\n",
            "278/278 [==============================] - 1s 2ms/step - loss: 0.6421 - val_loss: 0.5972\n",
            "Epoch 77/150\n",
            "278/278 [==============================] - 1s 2ms/step - loss: 0.6405 - val_loss: 0.5949\n",
            "Epoch 78/150\n",
            "278/278 [==============================] - 1s 2ms/step - loss: 0.6389 - val_loss: 0.5932\n",
            "Epoch 79/150\n",
            "278/278 [==============================] - 1s 2ms/step - loss: 0.6373 - val_loss: 0.5925\n",
            "Epoch 80/150\n",
            "278/278 [==============================] - 1s 3ms/step - loss: 0.6358 - val_loss: 0.5912\n",
            "Epoch 81/150\n",
            "278/278 [==============================] - 1s 3ms/step - loss: 0.6341 - val_loss: 0.5910\n",
            "Epoch 82/150\n",
            "278/278 [==============================] - 1s 4ms/step - loss: 0.6328 - val_loss: 0.5881\n",
            "Epoch 83/150\n",
            "278/278 [==============================] - 1s 3ms/step - loss: 0.6316 - val_loss: 0.5871\n",
            "Epoch 84/150\n",
            "278/278 [==============================] - 1s 2ms/step - loss: 0.6299 - val_loss: 0.5857\n",
            "Epoch 85/150\n",
            "278/278 [==============================] - 1s 3ms/step - loss: 0.6286 - val_loss: 0.5850\n",
            "Epoch 86/150\n",
            "278/278 [==============================] - 1s 3ms/step - loss: 0.6272 - val_loss: 0.5841\n",
            "Epoch 87/150\n",
            "278/278 [==============================] - 1s 3ms/step - loss: 0.6256 - val_loss: 0.5820\n",
            "Epoch 88/150\n",
            "278/278 [==============================] - 1s 2ms/step - loss: 0.6242 - val_loss: 0.5825\n",
            "Epoch 89/150\n",
            "278/278 [==============================] - 1s 2ms/step - loss: 0.6230 - val_loss: 0.5802\n",
            "Epoch 90/150\n",
            "278/278 [==============================] - 1s 2ms/step - loss: 0.6220 - val_loss: 0.5792\n",
            "Epoch 91/150\n",
            "278/278 [==============================] - 1s 2ms/step - loss: 0.6207 - val_loss: 0.5780\n",
            "Epoch 92/150\n",
            "278/278 [==============================] - 1s 2ms/step - loss: 0.6195 - val_loss: 0.5773\n",
            "Epoch 93/150\n",
            "278/278 [==============================] - 1s 2ms/step - loss: 0.6182 - val_loss: 0.5760\n",
            "Epoch 94/150\n",
            "278/278 [==============================] - 1s 2ms/step - loss: 0.6171 - val_loss: 0.5753\n",
            "Epoch 95/150\n",
            "278/278 [==============================] - 1s 2ms/step - loss: 0.6160 - val_loss: 0.5745\n",
            "Epoch 96/150\n",
            "278/278 [==============================] - 1s 2ms/step - loss: 0.6147 - val_loss: 0.5734\n",
            "Epoch 97/150\n",
            "278/278 [==============================] - 1s 2ms/step - loss: 0.6134 - val_loss: 0.5736\n",
            "Epoch 98/150\n",
            "278/278 [==============================] - 1s 2ms/step - loss: 0.6125 - val_loss: 0.5717\n",
            "Epoch 99/150\n",
            "278/278 [==============================] - 1s 4ms/step - loss: 0.6113 - val_loss: 0.5705\n",
            "Epoch 100/150\n",
            "278/278 [==============================] - 1s 4ms/step - loss: 0.6103 - val_loss: 0.5692\n",
            "Epoch 101/150\n",
            "278/278 [==============================] - 1s 3ms/step - loss: 0.6092 - val_loss: 0.5688\n",
            "Epoch 102/150\n",
            "278/278 [==============================] - 1s 3ms/step - loss: 0.6080 - val_loss: 0.5677\n",
            "Epoch 103/150\n",
            "278/278 [==============================] - 1s 2ms/step - loss: 0.6071 - val_loss: 0.5664\n",
            "Epoch 104/150\n",
            "278/278 [==============================] - 1s 2ms/step - loss: 0.6061 - val_loss: 0.5660\n",
            "Epoch 105/150\n",
            "278/278 [==============================] - 1s 2ms/step - loss: 0.6049 - val_loss: 0.5648\n",
            "Epoch 106/150\n",
            "278/278 [==============================] - 1s 2ms/step - loss: 0.6039 - val_loss: 0.5640\n",
            "Epoch 107/150\n",
            "278/278 [==============================] - 1s 2ms/step - loss: 0.6030 - val_loss: 0.5630\n",
            "Epoch 108/150\n",
            "278/278 [==============================] - 1s 2ms/step - loss: 0.6020 - val_loss: 0.5620\n",
            "Epoch 109/150\n",
            "278/278 [==============================] - 1s 2ms/step - loss: 0.6008 - val_loss: 0.5624\n",
            "Epoch 110/150\n",
            "278/278 [==============================] - 1s 2ms/step - loss: 0.6001 - val_loss: 0.5622\n",
            "Epoch 111/150\n",
            "278/278 [==============================] - 1s 2ms/step - loss: 0.5993 - val_loss: 0.5603\n",
            "Epoch 112/150\n",
            "278/278 [==============================] - 1s 2ms/step - loss: 0.5984 - val_loss: 0.5588\n",
            "Epoch 113/150\n",
            "278/278 [==============================] - 1s 2ms/step - loss: 0.5974 - val_loss: 0.5579\n",
            "Epoch 114/150\n",
            "278/278 [==============================] - 1s 2ms/step - loss: 0.5967 - val_loss: 0.5573\n",
            "Epoch 115/150\n",
            "278/278 [==============================] - 1s 3ms/step - loss: 0.5955 - val_loss: 0.5562\n",
            "Epoch 116/150\n",
            "278/278 [==============================] - 1s 2ms/step - loss: 0.5948 - val_loss: 0.5561\n",
            "Epoch 117/150\n",
            "278/278 [==============================] - 1s 2ms/step - loss: 0.5943 - val_loss: 0.5554\n",
            "Epoch 118/150\n",
            "278/278 [==============================] - 1s 3ms/step - loss: 0.5930 - val_loss: 0.5542\n",
            "Epoch 119/150\n",
            "278/278 [==============================] - 1s 3ms/step - loss: 0.5925 - val_loss: 0.5534\n",
            "Epoch 120/150\n",
            "278/278 [==============================] - 1s 3ms/step - loss: 0.5916 - val_loss: 0.5529\n",
            "Epoch 121/150\n",
            "278/278 [==============================] - 1s 3ms/step - loss: 0.5908 - val_loss: 0.5524\n",
            "Epoch 122/150\n",
            "278/278 [==============================] - 1s 3ms/step - loss: 0.5900 - val_loss: 0.5514\n",
            "Epoch 123/150\n",
            "278/278 [==============================] - 1s 2ms/step - loss: 0.5893 - val_loss: 0.5508\n",
            "Epoch 124/150\n",
            "278/278 [==============================] - 1s 2ms/step - loss: 0.5887 - val_loss: 0.5509\n",
            "Epoch 125/150\n",
            "278/278 [==============================] - 1s 2ms/step - loss: 0.5879 - val_loss: 0.5496\n",
            "Epoch 126/150\n",
            "278/278 [==============================] - 1s 2ms/step - loss: 0.5870 - val_loss: 0.5503\n",
            "Epoch 127/150\n",
            "278/278 [==============================] - 1s 2ms/step - loss: 0.5862 - val_loss: 0.5479\n",
            "Epoch 128/150\n",
            "278/278 [==============================] - 1s 2ms/step - loss: 0.5857 - val_loss: 0.5479\n",
            "Epoch 129/150\n",
            "278/278 [==============================] - 1s 2ms/step - loss: 0.5850 - val_loss: 0.5474\n",
            "Epoch 130/150\n",
            "278/278 [==============================] - 1s 2ms/step - loss: 0.5842 - val_loss: 0.5462\n",
            "Epoch 131/150\n",
            "278/278 [==============================] - 1s 2ms/step - loss: 0.5838 - val_loss: 0.5457\n",
            "Epoch 132/150\n",
            "278/278 [==============================] - 1s 2ms/step - loss: 0.5828 - val_loss: 0.5453\n",
            "Epoch 133/150\n",
            "278/278 [==============================] - 1s 2ms/step - loss: 0.5822 - val_loss: 0.5445\n",
            "Epoch 134/150\n",
            "278/278 [==============================] - 1s 2ms/step - loss: 0.5817 - val_loss: 0.5444\n",
            "Epoch 135/150\n",
            "278/278 [==============================] - 1s 2ms/step - loss: 0.5809 - val_loss: 0.5437\n",
            "Epoch 136/150\n",
            "278/278 [==============================] - 1s 2ms/step - loss: 0.5803 - val_loss: 0.5432\n",
            "Epoch 137/150\n",
            "278/278 [==============================] - 1s 2ms/step - loss: 0.5797 - val_loss: 0.5429\n",
            "Epoch 138/150\n",
            "278/278 [==============================] - 1s 3ms/step - loss: 0.5792 - val_loss: 0.5418\n",
            "Epoch 139/150\n",
            "278/278 [==============================] - 1s 3ms/step - loss: 0.5785 - val_loss: 0.5411\n",
            "Epoch 140/150\n",
            "278/278 [==============================] - 1s 3ms/step - loss: 0.5777 - val_loss: 0.5419\n",
            "Epoch 141/150\n",
            "278/278 [==============================] - 1s 3ms/step - loss: 0.5774 - val_loss: 0.5406\n",
            "Epoch 142/150\n",
            "278/278 [==============================] - 1s 3ms/step - loss: 0.5766 - val_loss: 0.5400\n",
            "Epoch 143/150\n",
            "278/278 [==============================] - 1s 2ms/step - loss: 0.5761 - val_loss: 0.5393\n",
            "Epoch 144/150\n",
            "278/278 [==============================] - 1s 2ms/step - loss: 0.5757 - val_loss: 0.5389\n",
            "Epoch 145/150\n",
            "278/278 [==============================] - 1s 2ms/step - loss: 0.5749 - val_loss: 0.5383\n",
            "Epoch 146/150\n",
            "278/278 [==============================] - 1s 2ms/step - loss: 0.5743 - val_loss: 0.5376\n",
            "Epoch 147/150\n",
            "278/278 [==============================] - 1s 2ms/step - loss: 0.5741 - val_loss: 0.5373\n",
            "Epoch 148/150\n",
            "278/278 [==============================] - 1s 2ms/step - loss: 0.5733 - val_loss: 0.5368\n",
            "Epoch 149/150\n",
            "278/278 [==============================] - 1s 2ms/step - loss: 0.5728 - val_loss: 0.5366\n",
            "Epoch 150/150\n",
            "278/278 [==============================] - 2s 6ms/step - loss: 0.5723 - val_loss: 0.5361\n"
          ]
        },
        {
          "output_type": "execute_result",
          "data": {
            "text/plain": [
              "<keras.src.callbacks.History at 0x7c39ff2cc0a0>"
            ]
          },
          "metadata": {},
          "execution_count": 66
        }
      ]
    },
    {
      "cell_type": "code",
      "source": [
        "\n",
        "[print(o.shape, o.dtype) for o in model.outputs]\n"
      ],
      "metadata": {
        "colab": {
          "base_uri": "https://localhost:8080/"
        },
        "id": "pC59BE6AZUFS",
        "outputId": "19fdf448-fa4f-4b87-b0c6-2a91d8effaa5"
      },
      "execution_count": null,
      "outputs": [
        {
          "output_type": "stream",
          "name": "stdout",
          "text": [
            "(None, 10) <dtype: 'float32'>\n"
          ]
        },
        {
          "output_type": "execute_result",
          "data": {
            "text/plain": [
              "[None]"
            ]
          },
          "metadata": {},
          "execution_count": 7
        }
      ]
    },
    {
      "cell_type": "code",
      "source": [
        "\n",
        "[print(l.name, l.input_shape, l.dtype) for l in model.layers]\n",
        "gho = len(training_loss)\n",
        "print(type(training_loss))"
      ],
      "metadata": {
        "colab": {
          "base_uri": "https://localhost:8080/",
          "height": 228
        },
        "id": "fzsTvkSkZUic",
        "outputId": "8018fae4-2162-4d03-e9dd-68bc169e1dff"
      },
      "execution_count": 25,
      "outputs": [
        {
          "output_type": "stream",
          "name": "stdout",
          "text": [
            "dense_5 (None, 11) float32\n",
            "dense_6 (None, 6) float32\n",
            "dense_7 (None, 3) float32\n"
          ]
        },
        {
          "output_type": "error",
          "ename": "NameError",
          "evalue": "name 'training_loss' is not defined",
          "traceback": [
            "\u001b[0;31m---------------------------------------------------------------------------\u001b[0m",
            "\u001b[0;31mNameError\u001b[0m                                 Traceback (most recent call last)",
            "\u001b[0;32m<ipython-input-25-905d6fcfb808>\u001b[0m in \u001b[0;36m<cell line: 2>\u001b[0;34m()\u001b[0m\n\u001b[1;32m      1\u001b[0m \u001b[0;34m[\u001b[0m\u001b[0mprint\u001b[0m\u001b[0;34m(\u001b[0m\u001b[0ml\u001b[0m\u001b[0;34m.\u001b[0m\u001b[0mname\u001b[0m\u001b[0;34m,\u001b[0m \u001b[0ml\u001b[0m\u001b[0;34m.\u001b[0m\u001b[0minput_shape\u001b[0m\u001b[0;34m,\u001b[0m \u001b[0ml\u001b[0m\u001b[0;34m.\u001b[0m\u001b[0mdtype\u001b[0m\u001b[0;34m)\u001b[0m \u001b[0;32mfor\u001b[0m \u001b[0ml\u001b[0m \u001b[0;32min\u001b[0m \u001b[0mmodel\u001b[0m\u001b[0;34m.\u001b[0m\u001b[0mlayers\u001b[0m\u001b[0;34m]\u001b[0m\u001b[0;34m\u001b[0m\u001b[0;34m\u001b[0m\u001b[0m\n\u001b[0;32m----> 2\u001b[0;31m \u001b[0mgho\u001b[0m \u001b[0;34m=\u001b[0m \u001b[0mlen\u001b[0m\u001b[0;34m(\u001b[0m\u001b[0mtraining_loss\u001b[0m\u001b[0;34m)\u001b[0m\u001b[0;34m\u001b[0m\u001b[0;34m\u001b[0m\u001b[0m\n\u001b[0m\u001b[1;32m      3\u001b[0m \u001b[0mprint\u001b[0m\u001b[0;34m(\u001b[0m\u001b[0mtype\u001b[0m\u001b[0;34m(\u001b[0m\u001b[0mtraining_loss\u001b[0m\u001b[0;34m)\u001b[0m\u001b[0;34m)\u001b[0m\u001b[0;34m\u001b[0m\u001b[0;34m\u001b[0m\u001b[0m\n",
            "\u001b[0;31mNameError\u001b[0m: name 'training_loss' is not defined"
          ]
        }
      ]
    },
    {
      "cell_type": "code",
      "source": [
        "# Extract losses for training datasets\n",
        "training_loss = model.history.history['loss']\n",
        "epochs = range(1, len(training_loss) + 1)\n",
        "\n",
        "# Plot training loss\n",
        "plt.figure(figsize=(10,6))\n",
        "plt.plot(epochs, training_loss, 'bo-', label='Training loss')\n",
        "plt.title('Training loss/epoch')\n",
        "plt.xlabel('Epoch')\n",
        "plt.ylabel('Loss')\n",
        "plt.show()"
      ],
      "metadata": {
        "colab": {
          "base_uri": "https://localhost:8080/",
          "height": 564
        },
        "id": "75QPb8ySk0D6",
        "outputId": "466fc370-7c87-42e6-95d2-ad28dd672ec3"
      },
      "execution_count": 67,
      "outputs": [
        {
          "output_type": "display_data",
          "data": {
            "text/plain": [
              "<Figure size 1000x600 with 1 Axes>"
            ],
            "image/png": "[encoded data removed]"
          },
          "metadata": {}
        }
      ]
    },
    {
      "cell_type": "code",
      "source": [
        "#Evaluate model - Quality\n",
        "#Use trained model to make predictions based on scaled test data\n",
        "predictions = model.predict(X_test_scaled)\n",
        "predictions_rounded = predictions.round(0)\n",
        "#y_obj = MinMaxScaler().fit(y_test_scaled_nd[0].reshape(-1,1))\n",
        "#predicted_quality = y_obj.inverse_transform(predictions)\n",
        "# Quick min/max check\n",
        "max(predictions_rounded)"
      ],
      "metadata": {
        "colab": {
          "base_uri": "https://localhost:8080/"
        },
        "id": "tQxEwO60rsw2",
        "outputId": "7e6e751e-c89a-4cc4-ba1f-d6023da7904c"
      },
      "execution_count": 68,
      "outputs": [
        {
          "output_type": "stream",
          "name": "stdout",
          "text": [
            "41/41 [==============================] - 0s 1ms/step\n"
          ]
        },
        {
          "output_type": "execute_result",
          "data": {
            "text/plain": [
              "array([8.], dtype=float32)"
            ]
          },
          "metadata": {},
          "execution_count": 68
        }
      ]
    },
    {
      "cell_type": "code",
      "source": [
        "# Quick min/max check\n",
        "print('max is:', max(predictions_rounded), ', min is:', min(predictions_rounded))"
      ],
      "metadata": {
        "colab": {
          "base_uri": "https://localhost:8080/"
        },
        "id": "RI_lwT5xsfoX",
        "outputId": "0d8644d5-e894-4fd5-811f-03c0625d184a"
      },
      "execution_count": 69,
      "outputs": [
        {
          "output_type": "stream",
          "name": "stdout",
          "text": [
            "max is: [8.] , min is: [4.]\n"
          ]
        }
      ]
    },
    {
      "cell_type": "code",
      "source": [
        "#transform numerical class indices back to original labels\n",
        "#predicted_labels = LabelEncoder.inverse_transform(predicted_quality)\n",
        "\n",
        "#Actual quality for test data\n",
        "preds = predictions_rounded.flatten()\n",
        "actual_quality = y_test['quality'].values\n",
        "\n",
        "#Calculate accuracy\n",
        "correct_predictions = (preds == actual_quality).sum()\n",
        "accuracy = correct_predictions / len(actual_quality)\n",
        "print(accuracy*100)\n",
        "\n",
        "pred_range = preds - actual_quality\n",
        "rmin = min(pred_range)\n",
        "rmax = max(pred_range)\n",
        "\n",
        "in_range = 100*((pred_range == 0).sum() + (pred_range == 1).sum() + (pred_range == -1).sum())/len(pred_range)\n",
        "print(in_range, '% of predicted qualities are +-1 of actual quality')\n",
        "\n"
      ],
      "metadata": {
        "colab": {
          "base_uri": "https://localhost:8080/"
        },
        "id": "hkO-tY9msyv-",
        "outputId": "114eacb5-bc63-4df3-cb3e-ecdf02076300"
      },
      "execution_count": 79,
      "outputs": [
        {
          "output_type": "stream",
          "name": "stdout",
          "text": [
            "50.84615384615384\n",
            "94.84615384615384 % of predicted qualities are +-1 of actual quality\n"
          ]
        }
      ]
    }
  ]
}